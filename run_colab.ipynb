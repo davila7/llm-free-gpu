{
 "cells": [
  {
   "cell_type": "code",
   "execution_count": null,
   "metadata": {},
   "outputs": [],
   "source": [
    "!git clone https://github.com/davila7/llm-free-gpu\n",
    "\n",
    "import os\n",
    "os.chdir(\"stable-diffusion-free-gpu\")\n",
    "\n",
    "!pip install -r requirements.txt\n",
    "\n",
    "!ngrok authtoken YOUR-AUTHTOKEN-HERE\n",
    "\n",
    "!streamlit run --server.port 8501 app.py >/dev/null"
   ]
  }
 ],
 "metadata": {
  "language_info": {
   "name": "python"
  }
 },
 "nbformat": 4,
 "nbformat_minor": 2
}
